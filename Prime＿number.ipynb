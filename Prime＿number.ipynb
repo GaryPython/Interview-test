{
  "nbformat": 4,
  "nbformat_minor": 0,
  "metadata": {
    "colab": {
      "name": "Prime＿number.ipynb",
      "provenance": [],
      "collapsed_sections": [
        "QwmmChw1WGAY"
      ],
      "authorship_tag": "ABX9TyMR4Jr5R5UCSBxginmVwent",
      "include_colab_link": true
    },
    "kernelspec": {
      "name": "python3",
      "display_name": "Python 3"
    }
  },
  "cells": [
    {
      "cell_type": "markdown",
      "metadata": {
        "id": "view-in-github",
        "colab_type": "text"
      },
      "source": [
        "<a href=\"https://colab.research.google.com/github/GaryPython/Interview-test/blob/main/Prime%EF%BC%BFnumber.ipynb\" target=\"_parent\"><img src=\"https://colab.research.google.com/assets/colab-badge.svg\" alt=\"Open In Colab\"/></a>"
      ]
    },
    {
      "cell_type": "markdown",
      "metadata": {
        "id": "nE_0A2pBSnMo"
      },
      "source": [
        "#找出質數"
      ]
    },
    {
      "cell_type": "code",
      "metadata": {
        "colab": {
          "base_uri": "https://localhost:8080/"
        },
        "id": "TQ9leazer6_o",
        "outputId": "aa0dc9c1-1f24-4134-9bf2-3f4e848eb36a"
      },
      "source": [
        "list = []\n",
        "\n",
        "for n in range(10):\n",
        "  for c in range(2,n):\n",
        "    if n % c == 0:\n",
        "#        print('不是質數')\n",
        "        break    \n",
        "    elif c == n-1: \n",
        "        list.append(n)\n",
        "\n",
        "  if n == 2:\n",
        "        list.append(n)\n",
        "#程式結束\n",
        "print(list)"
      ],
      "execution_count": 77,
      "outputs": [
        {
          "output_type": "stream",
          "text": [
            "[2, 3, 5, 7]\n"
          ],
          "name": "stdout"
        }
      ]
    },
    {
      "cell_type": "code",
      "metadata": {
        "colab": {
          "base_uri": "https://localhost:8080/"
        },
        "id": "hCqZk4jOsXtk",
        "outputId": "410bcf67-17cf-4a1d-821b-803d26932405"
      },
      "source": [
        "#while作法\n",
        "n = int(input('輸入一個正整數:'))\n",
        "c = 2\n",
        "\n",
        "while c < n:\n",
        "    if n % c == 0:\n",
        "        print('不是質數')\n",
        "        break\n",
        "    c += 1\n",
        "\n",
        "if c == n:\n",
        "    print('是質數')\n",
        "    print(n)"
      ],
      "execution_count": 42,
      "outputs": [
        {
          "output_type": "stream",
          "text": [
            "輸入一個正整數:55\n",
            "不是質數\n"
          ],
          "name": "stdout"
        }
      ]
    },
    {
      "cell_type": "code",
      "metadata": {
        "colab": {
          "base_uri": "https://localhost:8080/"
        },
        "id": "Fovb_QCWu_si",
        "outputId": "bf99bef1-19b4-4a31-c2ec-ee3a3ff87bb0"
      },
      "source": [
        "#for的做法\n",
        "n = int(input('輸入一個正整數:'))\n",
        "\n",
        "for c in range(2,n):\n",
        "    if n % c == 0:\n",
        "        print('不是質數')\n",
        "        break    \n",
        "    elif c == n-1: #因為c = 2~n-1\n",
        "        print('是質數')\n",
        "\n",
        "if n == 2:\n",
        "    print('是質數')\n",
        "#程式結束"
      ],
      "execution_count": 63,
      "outputs": [
        {
          "output_type": "stream",
          "text": [
            "輸入一個正整數:10\n",
            "不是質數\n"
          ],
          "name": "stdout"
        }
      ]
    },
    {
      "cell_type": "code",
      "metadata": {
        "colab": {
          "base_uri": "https://localhost:8080/"
        },
        "id": "u9_AVz7vwUU6",
        "outputId": "d7f5e2a9-4264-42e6-c9ed-68e33fd15496"
      },
      "source": [
        "#fun作法\n",
        "def is_prime(number):\n",
        "    for i in range(2,number):\n",
        "        if number % i == 0:\n",
        "            return False\n",
        "    return True\n",
        "\n",
        "n = int(input('輸入一個正整數:'))\n",
        "\n",
        "if is_prime(n):\n",
        "    print('是質數')\n",
        "else:\n",
        "    print('不是質數')"
      ],
      "execution_count": 64,
      "outputs": [
        {
          "output_type": "stream",
          "text": [
            "輸入一個正整數:10\n",
            "不是質數\n"
          ],
          "name": "stdout"
        }
      ]
    },
    {
      "cell_type": "markdown",
      "metadata": {
        "id": "TiHc3cpUSjAx"
      },
      "source": [
        "# 質因數分解"
      ]
    },
    {
      "cell_type": "markdown",
      "metadata": {
        "id": "KK8LfnHZWNY_"
      },
      "source": [
        "##可重複詢問"
      ]
    },
    {
      "cell_type": "code",
      "metadata": {
        "id": "6UUiDy7GRZTf"
      },
      "source": [
        "while True:\n",
        "    n = int(input('请输入一个整数：'))\n",
        "    print('%d='%n,end='')\n",
        "    while n>1:\n",
        "        for i in range(2,n+1):\n",
        "            if n%i==0:\n",
        "                n=int(n/i)\n",
        "                if n==1:\n",
        "                    print('%d'%i,end='')\n",
        "                else:\n",
        "                    print('%d*'%i,end='')\n",
        "                break\n",
        " \n",
        " "
      ],
      "execution_count": null,
      "outputs": []
    },
    {
      "cell_type": "markdown",
      "metadata": {
        "id": "QwmmChw1WGAY"
      },
      "source": [
        "##不可重複詢問"
      ]
    },
    {
      "cell_type": "code",
      "metadata": {
        "colab": {
          "base_uri": "https://localhost:8080/"
        },
        "id": "jId2owrZTJP6",
        "outputId": "69bbe2af-dad0-4f6c-b235-fba3ae507b8f"
      },
      "source": [
        "n = int(input('请输入一个整数：'))\n",
        "print('%d='%n,end='')\n",
        "while n>1:\n",
        "  for i in range(2,n+1):\n",
        "    if n%i==0:\n",
        "        n=int(n/i)\n",
        "        if n==1:\n",
        "          print('%d'%i,end='')\n",
        "        else:\n",
        "          print('%d*'%i,end='')\n",
        "        break"
      ],
      "execution_count": 11,
      "outputs": [
        {
          "output_type": "stream",
          "text": [
            "请输入一个整数：120\n",
            "120=2*2*2*3*5"
          ],
          "name": "stdout"
        }
      ]
    },
    {
      "cell_type": "markdown",
      "metadata": {
        "id": "x1m3ISOK6c5n"
      },
      "source": [
        "#解釋"
      ]
    },
    {
      "cell_type": "code",
      "metadata": {
        "colab": {
          "base_uri": "https://localhost:8080/"
        },
        "id": "ggRxZ5F26iOE",
        "outputId": "f9a37089-c337-43f5-d9b4-a1c2558c383b"
      },
      "source": [
        "n = int(input(\"請輸入一個整數：\")) #輸入一個數字，轉換成整數\n",
        "print(\"%d=\"%n,end=\"\")#print n=,end = \"\" 不換行，直接讓下面的print連接上來\n",
        "\n",
        "while n>1: #因為下面的 n 會一直被下面的 i除 所以會一直變小,n=1時表示完全整除，5/5＝1,所以設定n>1才Run\n",
        "  for i in range(2,n+1):#2是最小的質數，所以從2開始;;n+1是因為range會到n-1，為了到n所以n+1\n",
        "    if n% i ==0:#每次只要能整除n的i，其他不要\n",
        "      n=int(n/i)#每次固定n/i，雖然是整數相除，但是相除變成float,range只能讀int , 除非是np.arange\n",
        "      if n==1:#最後一個商等於1時，抓最後一個除數\n",
        "        print(\"%d\"%i)\n",
        "      else:#過程，每次相除只要不是1，都會print每次的除數（可重複因為break）\n",
        "        print(\"%d*\"%i,end = \"\")#end = \"\" 不換行，直接讓下面的print連接上來\n",
        "      break#執行後回歸到 「if n% i ==0:」 「n=int(n/i)」  \n",
        "           #如果說還是n%i(跟上次相同) == 0，重複迴圈\n",
        "           #如果不同，離迴圈重新再抓下一個i從「for i in range(2,n+1):」"
      ],
      "execution_count": 86,
      "outputs": [
        {
          "output_type": "stream",
          "text": [
            "請輸入一個整數：123\n",
            "123=3*41\n"
          ],
          "name": "stdout"
        }
      ]
    },
    {
      "cell_type": "code",
      "metadata": {
        "colab": {
          "base_uri": "https://localhost:8080/"
        },
        "id": "Zo6l8BTj7oar",
        "outputId": "989e214a-bded-4475-eaa6-454643517aad"
      },
      "source": [
        "list = []\n",
        "for n in range(2,10):\n",
        "  for i in range(2,n):\n",
        "    if n % i == 0:\n",
        "      break\n",
        "    elif i == n-1:\n",
        "      list.append(n)\n",
        "  if n == 2:\n",
        "    list.append(n)\n",
        "\n",
        "\n",
        "print(list)"
      ],
      "execution_count": 103,
      "outputs": [
        {
          "output_type": "stream",
          "text": [
            "[2, 3, 5, 7]\n"
          ],
          "name": "stdout"
        }
      ]
    },
    {
      "cell_type": "code",
      "metadata": {
        "id": "b_sJq59oFOql"
      },
      "source": [
        "list = []\n",
        "\n",
        "for n in range(10):\n",
        "  for c in range(2,n):\n",
        "    if n % c == 0:\n",
        "#        print('不是質數')\n",
        "        break    \n",
        "    elif c == n-1: \n",
        "        list.append(n)\n",
        "\n",
        "  if n == 2:\n",
        "        list.append(n)\n",
        "#程式結束\n",
        "print(list)"
      ],
      "execution_count": null,
      "outputs": []
    }
  ]
}