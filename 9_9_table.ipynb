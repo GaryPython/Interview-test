{
  "nbformat": 4,
  "nbformat_minor": 0,
  "metadata": {
    "colab": {
      "name": "9*9_table.ipynb",
      "provenance": [],
      "collapsed_sections": [],
      "authorship_tag": "ABX9TyMTqPk3P6D6orjKY3vZCFJi",
      "include_colab_link": true
    },
    "kernelspec": {
      "name": "python3",
      "display_name": "Python 3"
    }
  },
  "cells": [
    {
      "cell_type": "markdown",
      "metadata": {
        "id": "view-in-github",
        "colab_type": "text"
      },
      "source": [
        "<a href=\"https://colab.research.google.com/github/GaryPython/Interview-test/blob/main/9_9_table.ipynb\" target=\"_parent\"><img src=\"https://colab.research.google.com/assets/colab-badge.svg\" alt=\"Open In Colab\"/></a>"
      ]
    },
    {
      "cell_type": "code",
      "metadata": {
        "id": "L_rBfmhhlm53"
      },
      "source": [
        "import numpy as np\n"
      ],
      "execution_count": 19,
      "outputs": []
    },
    {
      "cell_type": "markdown",
      "metadata": {
        "id": "8zUH8kiwqUvz"
      },
      "source": [
        "#自行發想"
      ]
    },
    {
      "cell_type": "code",
      "metadata": {
        "colab": {
          "base_uri": "https://localhost:8080/"
        },
        "id": "drFg6ME8j8Ak",
        "outputId": "cac53fe5-dc8c-42dd-9d4f-7957d6b6e01e"
      },
      "source": [
        "list_num = []\n",
        "#list_name = []\n",
        "ans = []\n",
        "for i in range(1,10):\n",
        "  for j in range(1,10):\n",
        "    num  = i*j\n",
        "    list_num.append(num)\n",
        "    ans.append(str(i)+\"*\"+str(j)+\"=\"+str(num))\n",
        "    \n",
        "\n",
        "ans = np.array(ans)\n",
        "ans = np.reshape(ans,(9,9))\n",
        "ans = ans.T\n",
        "\n",
        "print(ans)\n",
        "\n",
        "list_num = np.array(list_num)\n",
        "list_num = np.reshape(list_num,(9,9))\n",
        "list_num = list_num.T\n",
        "print(list_num)"
      ],
      "execution_count": 39,
      "outputs": [
        {
          "output_type": "stream",
          "text": [
            "[['1*1=1' '2*1=2' '3*1=3' '4*1=4' '5*1=5' '6*1=6' '7*1=7' '8*1=8' '9*1=9']\n",
            " ['1*2=2' '2*2=4' '3*2=6' '4*2=8' '5*2=10' '6*2=12' '7*2=14' '8*2=16'\n",
            "  '9*2=18']\n",
            " ['1*3=3' '2*3=6' '3*3=9' '4*3=12' '5*3=15' '6*3=18' '7*3=21' '8*3=24'\n",
            "  '9*3=27']\n",
            " ['1*4=4' '2*4=8' '3*4=12' '4*4=16' '5*4=20' '6*4=24' '7*4=28' '8*4=32'\n",
            "  '9*4=36']\n",
            " ['1*5=5' '2*5=10' '3*5=15' '4*5=20' '5*5=25' '6*5=30' '7*5=35' '8*5=40'\n",
            "  '9*5=45']\n",
            " ['1*6=6' '2*6=12' '3*6=18' '4*6=24' '5*6=30' '6*6=36' '7*6=42' '8*6=48'\n",
            "  '9*6=54']\n",
            " ['1*7=7' '2*7=14' '3*7=21' '4*7=28' '5*7=35' '6*7=42' '7*7=49' '8*7=56'\n",
            "  '9*7=63']\n",
            " ['1*8=8' '2*8=16' '3*8=24' '4*8=32' '5*8=40' '6*8=48' '7*8=56' '8*8=64'\n",
            "  '9*8=72']\n",
            " ['1*9=9' '2*9=18' '3*9=27' '4*9=36' '5*9=45' '6*9=54' '7*9=63' '8*9=72'\n",
            "  '9*9=81']]\n",
            "[[ 1  2  3  4  5  6  7  8  9]\n",
            " [ 2  4  6  8 10 12 14 16 18]\n",
            " [ 3  6  9 12 15 18 21 24 27]\n",
            " [ 4  8 12 16 20 24 28 32 36]\n",
            " [ 5 10 15 20 25 30 35 40 45]\n",
            " [ 6 12 18 24 30 36 42 48 54]\n",
            " [ 7 14 21 28 35 42 49 56 63]\n",
            " [ 8 16 24 32 40 48 56 64 72]\n",
            " [ 9 18 27 36 45 54 63 72 81]]\n"
          ],
          "name": "stdout"
        }
      ]
    },
    {
      "cell_type": "markdown",
      "metadata": {
        "id": "QtbwPJbPqY88"
      },
      "source": [
        "#網路延伸"
      ]
    },
    {
      "cell_type": "code",
      "metadata": {
        "colab": {
          "base_uri": "https://localhost:8080/"
        },
        "id": "nCAXaMgUkH1o",
        "outputId": "fbe889f4-32fa-42f0-ff72-a8b9462fa068"
      },
      "source": [
        "1 #完整格式輸出九九乘法表\n",
        "\n",
        "for i in range(1,10):\n",
        "     for j in range(1,10):\n",
        "         print(\"%d*%d=%2d\" % (i,j,i*j),end=\" \")\n",
        "     print(\"\")"
      ],
      "execution_count": 49,
      "outputs": [
        {
          "output_type": "stream",
          "text": [
            "1*1= 1 1*2= 2 1*3= 3 1*4= 4 1*5= 5 1*6= 6 1*7= 7 1*8= 8 1*9= 9 \n",
            "2*1= 2 2*2= 4 2*3= 6 2*4= 8 2*5=10 2*6=12 2*7=14 2*8=16 2*9=18 \n",
            "3*1= 3 3*2= 6 3*3= 9 3*4=12 3*5=15 3*6=18 3*7=21 3*8=24 3*9=27 \n",
            "4*1= 4 4*2= 8 4*3=12 4*4=16 4*5=20 4*6=24 4*7=28 4*8=32 4*9=36 \n",
            "5*1= 5 5*2=10 5*3=15 5*4=20 5*5=25 5*6=30 5*7=35 5*8=40 5*9=45 \n",
            "6*1= 6 6*2=12 6*3=18 6*4=24 6*5=30 6*6=36 6*7=42 6*8=48 6*9=54 \n",
            "7*1= 7 7*2=14 7*3=21 7*4=28 7*5=35 7*6=42 7*7=49 7*8=56 7*9=63 \n",
            "8*1= 8 8*2=16 8*3=24 8*4=32 8*5=40 8*6=48 8*7=56 8*8=64 8*9=72 \n",
            "9*1= 9 9*2=18 9*3=27 9*4=36 9*5=45 9*6=54 9*7=63 9*8=72 9*9=81 \n"
          ],
          "name": "stdout"
        }
      ]
    },
    {
      "cell_type": "code",
      "metadata": {
        "id": "qY71ATOVqcsX"
      },
      "source": [
        ""
      ],
      "execution_count": null,
      "outputs": []
    }
  ]
}