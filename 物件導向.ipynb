{
  "nbformat": 4,
  "nbformat_minor": 0,
  "metadata": {
    "colab": {
      "name": "物件導向.ipynb",
      "provenance": [],
      "authorship_tag": "ABX9TyMl3xI+BdejfHeIxuH/Bhjl",
      "include_colab_link": true
    },
    "kernelspec": {
      "name": "python3",
      "display_name": "Python 3"
    }
  },
  "cells": [
    {
      "cell_type": "markdown",
      "metadata": {
        "id": "view-in-github",
        "colab_type": "text"
      },
      "source": [
        "<a href=\"https://colab.research.google.com/github/GaryPython/Interview-test/blob/main/%E7%89%A9%E4%BB%B6%E5%B0%8E%E5%90%91.ipynb\" target=\"_parent\"><img src=\"https://colab.research.google.com/assets/colab-badge.svg\" alt=\"Open In Colab\"/></a>"
      ]
    },
    {
      "cell_type": "markdown",
      "metadata": {
        "id": "OpDTQfwWLAIF"
      },
      "source": [
        "# 1.類別(Class)\n",
        "*"
      ]
    },
    {
      "cell_type": "code",
      "metadata": {
        "id": "NRaHCEOhH9cP"
      },
      "source": [
        "##1.類別##\n",
        "\n",
        "#汽車類別\n",
        "class Cars:\n",
        "  pass\n",
        "\n",
        "#摩托車類別\n",
        "class Motorcycle:\n",
        "  pass\n",
        "\n"
      ],
      "execution_count": null,
      "outputs": []
    },
    {
      "cell_type": "markdown",
      "metadata": {
        "id": "4bMazXadLJMk"
      },
      "source": [
        "#2.物件(object)\n"
      ]
    },
    {
      "cell_type": "code",
      "metadata": {
        "colab": {
          "base_uri": "https://localhost:8080/"
        },
        "id": "pRhS19p-LHe1",
        "outputId": "11287a25-5134-46e4-8e10-83263bffe3c0"
      },
      "source": [
        "##2.物件##\n",
        "#建立 Cars 類別的物件\n",
        "mazda = Cars()\n",
        "\n",
        "print(isinstance(mazda,Cars))\n",
        "print(isinstance(mazda,Motorcycle))"
      ],
      "execution_count": null,
      "outputs": [
        {
          "output_type": "stream",
          "text": [
            "True\n",
            "False\n"
          ],
          "name": "stdout"
        }
      ]
    },
    {
      "cell_type": "markdown",
      "metadata": {
        "id": "P0_Lob_5LShF"
      },
      "source": [
        "# 3.屬性(Attribute)"
      ]
    },
    {
      "cell_type": "markdown",
      "metadata": {
        "id": "bO4lJiiVLzxB"
      },
      "source": [
        "實體屬性(Instance Attribute)\n",
        "\n",
        "\n",
        "類別屬性(Class Attribute)\n"
      ]
    },
    {
      "cell_type": "code",
      "metadata": {
        "id": "WyKlLHN-JBU2"
      },
      "source": [
        "##3.屬性##\n",
        "\n",
        "mazda = Cars()  # 建立Cars類別的物件 \n",
        "mazda.color = \"blue\"  #顏色屬性 \n",
        "mazda.seat = 4  #座位屬性"
      ],
      "execution_count": null,
      "outputs": []
    },
    {
      "cell_type": "code",
      "metadata": {
        "colab": {
          "base_uri": "https://localhost:8080/"
        },
        "id": "pca8UmfgJP-j",
        "outputId": "70377224-8823-4879-df1e-946713e4028e"
      },
      "source": [
        "print(mazda.color)\n",
        "print(mazda.seat)"
      ],
      "execution_count": null,
      "outputs": [
        {
          "output_type": "stream",
          "text": [
            "blue\n",
            "4\n"
          ],
          "name": "stdout"
        }
      ]
    },
    {
      "cell_type": "markdown",
      "metadata": {
        "id": "rPexkFGDLVd8"
      },
      "source": [
        "# 4.建構式(Constructor)"
      ]
    },
    {
      "cell_type": "code",
      "metadata": {
        "id": "XSpEP53EJY1a"
      },
      "source": [
        "##4.建構式##\n",
        "\n",
        "def __init__(self, color, seat):\n",
        "　　self.color = color  # 顏色屬性\n",
        "　　self.seat = seat  # 座位屬性 "
      ],
      "execution_count": null,
      "outputs": []
    },
    {
      "cell_type": "code",
      "metadata": {
        "id": "dQ8PBrI8KvRJ"
      },
      "source": [
        "# 汽車類別\n",
        "class Cars:\n",
        "    # 建構式\n",
        "    def __init__(self, color, seat):\n",
        "        self.color = color  # 顏色屬性\n",
        "        self.seat = seat  # 座位屬性\n",
        "mazda = Cars(\"blue\", 4)"
      ],
      "execution_count": null,
      "outputs": []
    },
    {
      "cell_type": "markdown",
      "metadata": {
        "id": "o2oBZSmuLZkQ"
      },
      "source": [
        "# 5.方法(Method)"
      ]
    },
    {
      "cell_type": "markdown",
      "metadata": {
        "id": "xqR-VkkaL9kJ"
      },
      "source": [
        "實體方法(Instance Method)\n",
        "\n",
        "類別方法(Class Method)\n",
        "\n",
        "靜態方法(Static Method)"
      ]
    },
    {
      "cell_type": "code",
      "metadata": {
        "id": "GEAB3vxjK5RL"
      },
      "source": [
        "##5.方法(Method)##\n",
        "def method_name(self):\n",
        "　　statement"
      ],
      "execution_count": null,
      "outputs": []
    },
    {
      "cell_type": "markdown",
      "metadata": {
        "id": "d91tG5fWMRUZ"
      },
      "source": [
        "# Final"
      ]
    },
    {
      "cell_type": "code",
      "metadata": {
        "id": "4s-VHyJFMPYl"
      },
      "source": [
        "# 汽車類別\n",
        "class Cars:\n",
        "    # 建構式\n",
        "    def __init__(self, color, seat):\n",
        "        self.color = color  # 顏色屬性\n",
        "        self.seat = seat  # 座位屬性\n",
        "    # 方法(Method)\n",
        "    def drive(self):\n",
        "        print(f\"My car is {self.color} and has {self.seat} seats.\")\n",
        "mazda = Cars(\"blue\", 4)\n",
        "mazda.drive()  #執行結果：My car is blue and has 4 seats.\n",
        " "
      ],
      "execution_count": null,
      "outputs": []
    },
    {
      "cell_type": "markdown",
      "metadata": {
        "id": "_SEtQazUNQ0G"
      },
      "source": [
        "# 簡單範例3:互動案例-存款與取款\n"
      ]
    },
    {
      "cell_type": "code",
      "metadata": {
        "id": "OOM4npvxNQML"
      },
      "source": [
        "class Account:\n",
        "    def __init__(self, number, name):\n",
        "        self.number = number\n",
        "        self.name = name\n",
        "        self.balance = 0\n",
        "        \n",
        "    def deposit(self, amount):  #存款動作: amount代表存入金額\n",
        "        if amount <= 0:\n",
        "            raise ValueError('must be positive')\n",
        "        self.balance += amount\n",
        "        \n",
        "    def withdraw(self, amount): #取款動作: amount代表取款金額\n",
        "        if amount <= self.balance:\n",
        "            self.balance -= amount\n",
        "        else:\n",
        "            raise RuntimeError('balance not enough')"
      ],
      "execution_count": null,
      "outputs": []
    },
    {
      "cell_type": "code",
      "metadata": {
        "colab": {
          "base_uri": "https://localhost:8080/"
        },
        "id": "-fgzx6AbNomc",
        "outputId": "58d0c80b-00e0-412d-fead-c1636578f96f"
      },
      "source": [
        "acct1 = Account(\"123–456–789\", \"Justin\") #開一個帳戶\n",
        "acct1.deposit(100)\n",
        "acct1.withdraw(30)\n",
        "print(acct1.balance) #餘額是 70"
      ],
      "execution_count": null,
      "outputs": [
        {
          "output_type": "stream",
          "text": [
            "70\n"
          ],
          "name": "stdout"
        }
      ]
    },
    {
      "cell_type": "code",
      "metadata": {
        "id": "c8IbMa3NNv-l"
      },
      "source": [
        ""
      ],
      "execution_count": null,
      "outputs": []
    }
  ]
}