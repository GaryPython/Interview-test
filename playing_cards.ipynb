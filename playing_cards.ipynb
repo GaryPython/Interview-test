{
  "nbformat": 4,
  "nbformat_minor": 0,
  "metadata": {
    "colab": {
      "name": " playing_cards.ipynb",
      "provenance": [],
      "collapsed_sections": [],
      "authorship_tag": "ABX9TyMHsMOv8PiTFpu3ICJuCXme",
      "include_colab_link": true
    },
    "kernelspec": {
      "name": "python3",
      "display_name": "Python 3"
    }
  },
  "cells": [
    {
      "cell_type": "markdown",
      "metadata": {
        "id": "view-in-github",
        "colab_type": "text"
      },
      "source": [
        "<a href=\"https://colab.research.google.com/github/GaryPython/Interview-test/blob/main/playing_cards.ipynb\" target=\"_parent\"><img src=\"https://colab.research.google.com/assets/colab-badge.svg\" alt=\"Open In Colab\"/></a>"
      ]
    },
    {
      "cell_type": "code",
      "metadata": {
        "id": "XwHVwICC_iom"
      },
      "source": [
        "#全部的存放位置\r\n",
        "total = []\r\n"
      ],
      "execution_count": null,
      "outputs": []
    },
    {
      "cell_type": "code",
      "metadata": {
        "id": "jR63nIV9AG0T"
      },
      "source": [
        "import numpy as np\r\n",
        "import random"
      ],
      "execution_count": null,
      "outputs": []
    },
    {
      "cell_type": "code",
      "metadata": {
        "colab": {
          "base_uri": "https://localhost:8080/"
        },
        "id": "o0o7YedAAJIl",
        "outputId": "f2f32a86-1635-4526-96d3-0b8ecad1c3be"
      },
      "source": [
        "labels = np.array([\"Cube\", \"heart\",\"flower\",\"block\"])\r\n",
        "nums = np.arange(13)+1\r\n",
        "num = list(nums)\r\n",
        "print(num)\r\n",
        "print(labels)"
      ],
      "execution_count": null,
      "outputs": [
        {
          "output_type": "stream",
          "text": [
            "[1, 2, 3, 4, 5, 6, 7, 8, 9, 10, 11, 12, 13]\n",
            "['Cube' 'heart' 'flower' 'block']\n"
          ],
          "name": "stdout"
        }
      ]
    },
    {
      "cell_type": "code",
      "metadata": {
        "colab": {
          "base_uri": "https://localhost:8080/"
        },
        "id": "3ekUybw3K95s",
        "outputId": "ffe65705-9a57-4f66-8273-6909f67638a4"
      },
      "source": [
        "for label in labels:\r\n",
        "  for num in nums:\r\n",
        "    t = label + str(num)\r\n",
        "    total.append(t)\r\n",
        "print(total)\r\n",
        "print(len(total))"
      ],
      "execution_count": null,
      "outputs": [
        {
          "output_type": "stream",
          "text": [
            "['Cube1', 'Cube2', 'Cube3', 'Cube4', 'Cube5', 'Cube6', 'Cube7', 'Cube8', 'Cube9', 'Cube10', 'Cube11', 'Cube12', 'Cube13', 'heart1', 'heart2', 'heart3', 'heart4', 'heart5', 'heart6', 'heart7', 'heart8', 'heart9', 'heart10', 'heart11', 'heart12', 'heart13', 'flower1', 'flower2', 'flower3', 'flower4', 'flower5', 'flower6', 'flower7', 'flower8', 'flower9', 'flower10', 'flower11', 'flower12', 'flower13', 'block1', 'block2', 'block3', 'block4', 'block5', 'block6', 'block7', 'block8', 'block9', 'block10', 'block11', 'block12', 'block13']\n",
            "52\n"
          ],
          "name": "stdout"
        }
      ]
    },
    {
      "cell_type": "code",
      "metadata": {
        "colab": {
          "base_uri": "https://localhost:8080/"
        },
        "id": "rxLoP4cyLJRT",
        "outputId": "71c74efc-ce77-4998-e4b8-c7b873a90a63"
      },
      "source": [
        "#亂數\r\n",
        "import random\r\n",
        "print(\"順序  :\", total)\r\n",
        "random_total = random.sample(total, len(total))\r\n",
        "print(\"亂數:\", random_total)\r\n",
        "print(len(random_total))"
      ],
      "execution_count": null,
      "outputs": [
        {
          "output_type": "stream",
          "text": [
            "順序  : ['Cube1', 'Cube2', 'Cube3', 'Cube4', 'Cube5', 'Cube6', 'Cube7', 'Cube8', 'Cube9', 'Cube10', 'Cube11', 'Cube12', 'Cube13', 'heart1', 'heart2', 'heart3', 'heart4', 'heart5', 'heart6', 'heart7', 'heart8', 'heart9', 'heart10', 'heart11', 'heart12', 'heart13', 'flower1', 'flower2', 'flower3', 'flower4', 'flower5', 'flower6', 'flower7', 'flower8', 'flower9', 'flower10', 'flower11', 'flower12', 'flower13', 'block1', 'block2', 'block3', 'block4', 'block5', 'block6', 'block7', 'block8', 'block9', 'block10', 'block11', 'block12', 'block13']\n",
            "亂數: ['Cube2', 'heart7', 'heart5', 'flower1', 'flower9', 'Cube7', 'Cube5', 'flower11', 'Cube1', 'block12', 'heart13', 'heart3', 'flower4', 'block13', 'block8', 'Cube4', 'block2', 'Cube9', 'flower8', 'flower10', 'heart8', 'block10', 'block3', 'Cube12', 'flower3', 'block7', 'heart12', 'heart10', 'Cube11', 'block4', 'heart9', 'flower5', 'Cube8', 'flower6', 'block9', 'flower12', 'heart1', 'block5', 'Cube10', 'heart11', 'flower2', 'Cube13', 'Cube3', 'Cube6', 'block6', 'flower7', 'flower13', 'heart2', 'heart6', 'block11', 'heart4', 'block1']\n",
            "52\n"
          ],
          "name": "stdout"
        }
      ]
    },
    {
      "cell_type": "code",
      "metadata": {
        "colab": {
          "base_uri": "https://localhost:8080/"
        },
        "id": "iqyLr6k0NoyD",
        "outputId": "57b8f414-57cf-4df3-80aa-99870f198ba5"
      },
      "source": [
        "#分裝個玩家\r\n",
        "#法1\r\n",
        "\r\n",
        "print(\"A\", random_total[0:13])\r\n",
        "print(\"B\", random_total[13:26])\r\n",
        "print(\"C\", random_total[26:39])\r\n",
        "print(\"D\", random_total[39:52])\r\n"
      ],
      "execution_count": null,
      "outputs": [
        {
          "output_type": "stream",
          "text": [
            "A ['Cube2', 'heart7', 'heart5', 'flower1', 'flower9', 'Cube7', 'Cube5', 'flower11', 'Cube1', 'block12', 'heart13', 'heart3', 'flower4']\n",
            "B ['block13', 'block8', 'Cube4', 'block2', 'Cube9', 'flower8', 'flower10', 'heart8', 'block10', 'block3', 'Cube12', 'flower3', 'block7']\n",
            "A ['heart12', 'heart10', 'Cube11', 'block4', 'heart9', 'flower5', 'Cube8', 'flower6', 'block9', 'flower12', 'heart1', 'block5', 'Cube10']\n",
            "A ['heart11', 'flower2', 'Cube13', 'Cube3', 'Cube6', 'block6', 'flower7', 'flower13', 'heart2', 'heart6', 'block11', 'heart4', 'block1']\n"
          ],
          "name": "stdout"
        }
      ]
    },
    {
      "cell_type": "code",
      "metadata": {
        "colab": {
          "base_uri": "https://localhost:8080/"
        },
        "id": "bkw9BVYgU-yZ",
        "outputId": "15c9d1a2-a66e-405d-c0c1-f08ed299871d"
      },
      "source": [
        "#法2\r\n",
        "random_total = np.array(random_total)\r\n",
        "random_total = random_total.reshape(4,13)\r\n",
        "print(\"A\", random_total[0])\r\n",
        "print(\"B\", random_total[1])\r\n",
        "print(\"C\", random_total[2])\r\n",
        "print(\"D\", random_total[3])\r\n"
      ],
      "execution_count": null,
      "outputs": [
        {
          "output_type": "stream",
          "text": [
            "A ['Cube2' 'heart7' 'heart5' 'flower1' 'flower9' 'Cube7' 'Cube5' 'flower11'\n",
            " 'Cube1' 'block12' 'heart13' 'heart3' 'flower4']\n",
            "B ['block13' 'block8' 'Cube4' 'block2' 'Cube9' 'flower8' 'flower10' 'heart8'\n",
            " 'block10' 'block3' 'Cube12' 'flower3' 'block7']\n",
            "C ['heart12' 'heart10' 'Cube11' 'block4' 'heart9' 'flower5' 'Cube8'\n",
            " 'flower6' 'block9' 'flower12' 'heart1' 'block5' 'Cube10']\n",
            "D ['heart11' 'flower2' 'Cube13' 'Cube3' 'Cube6' 'block6' 'flower7'\n",
            " 'flower13' 'heart2' 'heart6' 'block11' 'heart4' 'block1']\n"
          ],
          "name": "stdout"
        }
      ]
    },
    {
      "cell_type": "code",
      "metadata": {
        "id": "ZyL95MtxWmep"
      },
      "source": [
        ""
      ],
      "execution_count": null,
      "outputs": []
    }
  ]
}